{
 "cells": [
  {
   "cell_type": "markdown",
   "metadata": {
    "slideshow": {
     "slide_type": "slide"
    }
   },
   "source": [
    "# Equal Pay Day\n",
    "\n",
    "* When is Equal Pay Day 2019?\n",
    "* When was Equal Pay Day 2018?\n",
    "* Why does the date change?"
   ]
  },
  {
   "cell_type": "markdown",
   "metadata": {
    "slideshow": {
     "slide_type": "subslide"
    }
   },
   "source": [
    "[Article A](https://www.standard.co.uk/lifestyle/equal-pay-day-uk-gender-pay-gap-a3985036.html)\n",
    "\n",
    "[Article B](https://iea.org.uk/media/the-problem-with-the-gender-pay-gap-obsession/)\n",
    "\n",
    "As you read the two articles make a list of any **factual claims** that we could check.\n",
    "\n",
    "Highlight any **opinions**, or statements that cannot be checked."
   ]
  },
  {
   "cell_type": "markdown",
   "metadata": {
    "slideshow": {
     "slide_type": "subslide"
    }
   },
   "source": [
    "#### [Annual Pay Gap Estimates](https://www.ons.gov.uk/employmentandlabourmarket/peopleinwork/earningsandworkinghours/datasets/annualsurveyofhoursandearningsashegenderpaygaptables)\n",
    "\n",
    "Extensive pay gap data for 2019 by FT/PT status, region, sector and age group\n",
    "\n",
    "#### [Annual Survey of Hours and Earnings](https://www.ons.gov.uk/employmentandlabourmarket/peopleinwork/earningsandworkinghours/datasets/ashe1997to2015selectedestimates)\n",
    "\n",
    "Time series tracking pay gap data from 1997 to 2018\n",
    "\n",
    "#### [Company Self Report](https://gender-pay-gap.service.gov.uk/viewing/download)\n",
    "\n",
    "Since 2017, companies with more than 250 employees have had to report their pay gap data, including mean and median pay gap, and the composition of each income quartile\n",
    "\n",
    "What questions could we ask?\n",
    "\n",
    "What visualisations might help?"
   ]
  }
 ],
 "metadata": {
  "celltoolbar": "Slideshow",
  "kernelspec": {
   "display_name": "Python 3",
   "language": "python",
   "name": "python3"
  },
  "language_info": {
   "codemirror_mode": {
    "name": "ipython",
    "version": 3
   },
   "file_extension": ".py",
   "mimetype": "text/x-python",
   "name": "python",
   "nbconvert_exporter": "python",
   "pygments_lexer": "ipython3",
   "version": "3.6.8"
  }
 },
 "nbformat": 4,
 "nbformat_minor": 2
}

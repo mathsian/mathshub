{
 "cells": [
  {
   "cell_type": "code",
   "execution_count": 1,
   "metadata": {
    "slideshow": {
     "slide_type": "skip"
    }
   },
   "outputs": [],
   "source": [
    "import random\n",
    "import ipywidgets as widgets\n",
    "import IPython\n",
    "from IPython.display import HTML\n",
    "import time"
   ]
  },
  {
   "cell_type": "markdown",
   "metadata": {
    "slideshow": {
     "slide_type": "slide"
    }
   },
   "source": [
    "# Snake\n",
    "\n",
    "A round of snake goes like this\n",
    "\n",
    "* Everyone stands up\n",
    "* We keep rolling two dice and adding them to a running total\n",
    "* You can choose to sit down and take that running total as your score for the round\n",
    "* **Except** if either of the dice shows a $1$ then, if you're still standing, you score $0$\n",
    "\n",
    "Snake is usually played over five rounds `S N A K E` and the grand total is your final score."
   ]
  },
  {
   "cell_type": "code",
   "execution_count": 53,
   "metadata": {
    "hide_input": true,
    "slideshow": {
     "slide_type": "fragment"
    }
   },
   "outputs": [
    {
     "data": {
      "application/vnd.jupyter.widget-view+json": {
       "model_id": "cde7a1dffc1b4ccc8cd0fa783067c8d4",
       "version_major": 2,
       "version_minor": 0
      },
      "text/plain": [
       "Output()"
      ]
     },
     "metadata": {},
     "output_type": "display_data"
    }
   ],
   "source": [
    "out = widgets.Output()\n",
    "display(out)\n",
    "for _ in range(8):\n",
    "    time.sleep(0.1)\n",
    "    a = random.randint(1,6)\n",
    "    b = random.randint(1,6)\n",
    "    with out:\n",
    "        IPython.display.clear_output(wait=True)\n",
    "        display(HTML(f\"<h1>{a} + {b}</h1>\"))"
   ]
  },
  {
   "cell_type": "markdown",
   "metadata": {
    "slideshow": {
     "slide_type": "subslide"
    }
   },
   "source": [
    "## What questions can we ask?\n",
    "\n",
    "$\\uparrow$\n",
    "What is the probability of rolling a one?\n",
    "\n",
    "$\\downarrow$\n",
    "Is Snake a game of skill? "
   ]
  }
 ],
 "metadata": {
  "celltoolbar": "Slideshow",
  "kernelspec": {
   "display_name": "Python 3",
   "language": "python",
   "name": "python3"
  },
  "language_info": {
   "codemirror_mode": {
    "name": "ipython",
    "version": 3
   },
   "file_extension": ".py",
   "mimetype": "text/x-python",
   "name": "python",
   "nbconvert_exporter": "python",
   "pygments_lexer": "ipython3",
   "version": "3.6.8"
  }
 },
 "nbformat": 4,
 "nbformat_minor": 2
}
